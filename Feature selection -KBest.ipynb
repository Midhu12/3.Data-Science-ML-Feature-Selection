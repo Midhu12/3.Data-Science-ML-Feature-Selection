{
 "cells": [
  {
   "cell_type": "code",
   "execution_count": 1,
   "id": "17b08941",
   "metadata": {},
   "outputs": [],
   "source": [
    "import pandas as pd\n",
    "import numpy as np\n",
    "import matplotlib.pyplot as plt\n",
    "import pickle\n",
    "import time"
   ]
  },
  {
   "cell_type": "code",
   "execution_count": 2,
   "id": "0e52f056",
   "metadata": {},
   "outputs": [],
   "source": [
    "from sklearn.model_selection import train_test_split\n",
    "from sklearn.preprocessing import StandardScaler\n",
    "from sklearn.feature_selection import SelectKBest\n",
    "from sklearn.feature_selection import chi2\n",
    "from sklearn.feature_selection import RFE\n",
    "from sklearn.linear_model import LogisticRegression\n",
    "from sklearn.feature_selection import RFE"
   ]
  },
  {
   "cell_type": "code",
   "execution_count": 3,
   "id": "4853eecf",
   "metadata": {},
   "outputs": [],
   "source": [
    "def selectkbest(indep_x,dep_y,n):\n",
    "    test=SelectKBest(score_func=chi2,k=n)\n",
    "    fit1=test.fit(indep_x,dep_y)\n",
    "    selectk_features=fit1.transform(indep_x)\n",
    "    return selectk_features\n"
   ]
  },
  {
   "cell_type": "code",
   "execution_count": 4,
   "id": "2a9b94cd",
   "metadata": {},
   "outputs": [],
   "source": [
    "def split_scalar(indep_x, dep_y):\n",
    "    x_train, x_test, y_train, y_test = train_test_split(indep_x, dep_y, test_size=0.25, random_state=0)\n",
    "    sc = StandardScaler()\n",
    "    x_train = sc.fit_transform(x_train)\n",
    "    x_test = sc.transform(x_test)\n",
    "    return x_train, x_test, y_train, y_test\n"
   ]
  },
  {
   "cell_type": "code",
   "execution_count": 5,
   "id": "b36de117",
   "metadata": {},
   "outputs": [],
   "source": [
    "def cm_prediction(classifier,x_test):\n",
    "    y_pred=classifier.predict(x_test)\n",
    "    from sklearn.metrics import confusion_matrix\n",
    "    cm=confusion_matrix(y_test,y_pred)\n",
    "    from sklearn.metrics import accuracy_score\n",
    "    Accuracy=accuracy_score(y_test,y_pred)\n",
    "    from sklearn.metrics import classification_report\n",
    "    report=classification_report(y_test,y_pred)\n",
    "    return classifier,Accuracy,report,x_test,y_test,cm"
   ]
  },
  {
   "cell_type": "code",
   "execution_count": 6,
   "id": "6c0367e6",
   "metadata": {},
   "outputs": [],
   "source": [
    "def logistic(x_train,y_train,x_test):\n",
    "    from sklearn.linear_model import LogisticRegression\n",
    "    classifier=LogisticRegression(random_state=0)\n",
    "    classifier.fit(x_train,y_train)\n",
    "    classifier,Accuracy,report,x_test,y_test,cm=cm_prediction(classifier,x_test)\n",
    "    return classifier,Accuracy,report,x_test,y_test,cm"
   ]
  },
  {
   "cell_type": "code",
   "execution_count": 7,
   "id": "69d31e2e",
   "metadata": {},
   "outputs": [],
   "source": [
    "def svml(x_train,y_train,x_test):\n",
    "    from sklearn.svm import SVC\n",
    "    classifier=SVC(kernel='linear',random_state=0)\n",
    "    classifier.fit(x_train,y_train)\n",
    "    classifier,Accuracy,report,x_test,y_test,cm=cm_prediction(classifier,x_test)\n",
    "    return classifier,Accuracy,report,x_test,y_test,cm"
   ]
  },
  {
   "cell_type": "code",
   "execution_count": 8,
   "id": "a2f95d25",
   "metadata": {},
   "outputs": [],
   "source": [
    "def svmnl(x_train,y_train,x_test):\n",
    "    from sklearn.svm import SVC\n",
    "    classifier=SVC(kernel='rbf',random_state=0)\n",
    "    classifier.fit(x_train,y_train)\n",
    "    classifier,Accuracy,report,x_test,y_test,cm=cm_prediction(classifier,x_test)\n",
    "    return classifier,Accuracy,report,x_test,y_test,cm"
   ]
  },
  {
   "cell_type": "code",
   "execution_count": 9,
   "id": "d2ebc5d9",
   "metadata": {},
   "outputs": [],
   "source": [
    "def naive(x_train, y_train, x_test):\n",
    "    from sklearn.naive_bayes import GaussianNB\n",
    "    classifier = GaussianNB() \n",
    "    classifier.fit(x_train, y_train)\n",
    "    classifidef knn(x_train,y_train,x_test):\n",
    "    from sklearn.neighbors import KNeighborsClassifier\n",
    "    classifier=KNeighborsClassifier(n_neighbors=5,metric='minkowski',p=2)\n",
    "    classifier.fit(x_train,y_train)\n",
    "    classifier,Accuracy,report,x_test,y_test,cm=cm_prediction(classifier,x_test)\n",
    "    return classifier,Accuracy,report,x_test,y_test,cmer, Accuracy, report, x_test, y_test, cm = cm_prediction(classifier, x_test)\n",
    "    return classifier,Accuracy,report,x_test,y_test,cm\n"
   ]
  },
  {
   "cell_type": "code",
   "execution_count": 10,
   "id": "6d0c7e77",
   "metadata": {},
   "outputs": [],
   "source": [
    "def knn(x_train,y_train,x_test):\n",
    "    from sklearn.neighbors import KNeighborsClassifier\n",
    "    classifier=KNeighborsClassifier(n_neighbors=5,metric='minkowski',p=2)\n",
    "    classifier.fit(x_train,y_train)\n",
    "    classifier,Accuracy,report,x_test,y_test,cm=cm_prediction(classifier,x_test)\n",
    "    return classifier,Accuracy,report,x_test,y_test,cm"
   ]
  },
  {
   "cell_type": "code",
   "execution_count": 11,
   "id": "b634ff97",
   "metadata": {},
   "outputs": [],
   "source": [
    "def Decision (x_train,y_train,x_test):\n",
    "    from sklearn.tree import DecisionTreeClassifier\n",
    "    classifier=DecisionTreeClassifier(criterion='entropy',random_state=0)\n",
    "    classifier.fit(x_train,y_train)\n",
    "    classifier,Accuracy,report,x_test,y_test,cm=cm_prediction(classifier,x_test)\n",
    "    return classifier,Accuracy,report,x_test,y_test,cm"
   ]
  },
  {
   "cell_type": "code",
   "execution_count": 12,
   "id": "9edb58d0",
   "metadata": {},
   "outputs": [],
   "source": [
    "def random(x_train,y_train,x_test):\n",
    "    from sklearn.ensemble import RandomForestClassifier\n",
    "    classifier=RandomForestClassifier(n_estimators=10,criterion='entropy',random_state=0)\n",
    "    classifier.fit(x_train,y_train)\n",
    "    classifier,Accuracy,report,x_test,y_test,cm=cm_prediction(classifier,x_test)\n",
    "    return classifier,Accuracy,report,x_test,y_test,cm\n",
    "    "
   ]
  },
  {
   "cell_type": "code",
   "execution_count": 18,
   "id": "83256895",
   "metadata": {},
   "outputs": [],
   "source": [
    "def selectk_classification (acclog,accsvml,accsvmnl,accknn,accnav,accdes,accrf):\n",
    "    dataframe=pd.DataFrame(index=['chisquare'],columns=['logistic','svml','svmnl','knn','naive','Decision','random'])\n",
    "    for number,idex in enumerate (dataframe.index):\n",
    "        dataframe['logistic'][idex]=acclog[number]\n",
    "        dataframe['svml'][idex]=accsvml[number]\n",
    "        dataframe['svmnl'][idex]=accsvmnl[number]\n",
    "        dataframe['knn'][idex]=accknn[number]\n",
    "        dataframe['naive'][idex]=accnav[number]\n",
    "        dataframe['Decision'][idex]=accdes[number]\n",
    "        dataframe['random'][idex]=accrf[number]\n",
    "    return dataframe"
   ]
  },
  {
   "cell_type": "code",
   "execution_count": 19,
   "id": "191eb08d",
   "metadata": {},
   "outputs": [],
   "source": [
    "dataset1=pd.read_csv('CKD.csv',index_col=None)\n",
    "df2=dataset1\n",
    "df2=pd.get_dummies(df2,drop_first=True)\n",
    "indep_x=df2.drop('classification_yes',1)\n",
    "dep_y=df2['classification_yes']"
   ]
  },
  {
   "cell_type": "code",
   "execution_count": 20,
   "id": "285e7b97",
   "metadata": {},
   "outputs": [],
   "source": [
    "kbest =selectkbest(indep_x,dep_y,6)\n",
    "acclog=[]\n",
    "accsvml=[]\n",
    "accsvmnl=[]\n",
    "accknn=[]\n",
    "accnav=[]\n",
    "accdes=[]\n",
    "accrf=[]"
   ]
  },
  {
   "cell_type": "code",
   "execution_count": 21,
   "id": "5ed1aeb2",
   "metadata": {},
   "outputs": [
    {
     "data": {
      "text/html": [
       "<div>\n",
       "<style scoped>\n",
       "    .dataframe tbody tr th:only-of-type {\n",
       "        vertical-align: middle;\n",
       "    }\n",
       "\n",
       "    .dataframe tbody tr th {\n",
       "        vertical-align: top;\n",
       "    }\n",
       "\n",
       "    .dataframe thead th {\n",
       "        text-align: right;\n",
       "    }\n",
       "</style>\n",
       "<table border=\"1\" class=\"dataframe\">\n",
       "  <thead>\n",
       "    <tr style=\"text-align: right;\">\n",
       "      <th></th>\n",
       "      <th>logistic</th>\n",
       "      <th>svml</th>\n",
       "      <th>svmnl</th>\n",
       "      <th>knn</th>\n",
       "      <th>naive</th>\n",
       "      <th>Decision</th>\n",
       "      <th>random</th>\n",
       "    </tr>\n",
       "  </thead>\n",
       "  <tbody>\n",
       "    <tr>\n",
       "      <th>chisquare</th>\n",
       "      <td>0.95</td>\n",
       "      <td>0.96</td>\n",
       "      <td>0.96</td>\n",
       "      <td>0.93</td>\n",
       "      <td>0.89</td>\n",
       "      <td>0.97</td>\n",
       "      <td>0.97</td>\n",
       "    </tr>\n",
       "  </tbody>\n",
       "</table>\n",
       "</div>"
      ],
      "text/plain": [
       "          logistic  svml svmnl   knn naive Decision random\n",
       "chisquare     0.95  0.96  0.96  0.93  0.89     0.97   0.97"
      ]
     },
     "execution_count": 21,
     "metadata": {},
     "output_type": "execute_result"
    }
   ],
   "source": [
    "x_train, x_test, y_train, y_test = split_scalar(kbest, dep_y)\n",
    "classifier, Accuracy, report, x_test, y_test, cm = logistic(x_train, y_train, x_test)\n",
    "acclog.append(Accuracy)\n",
    "classifier, Accuracy, report, x_test, y_test, cm = svml(x_train, y_train, x_test)\n",
    "accsvml.append(Accuracy)\n",
    "classifier, Accuracy, report, x_test, y_test, cm=svmnl(x_train,y_train,x_test)\n",
    "accsvmnl.append(Accuracy)\n",
    "classifier, Accuracy, report, x_test, y_test, cm = knn(x_train, y_train, x_test)\n",
    "accknn.append(Accuracy)\n",
    "classifier, Accuracy, report, x_test, y_test, cm = naive(x_train, y_train, x_test)\n",
    "accnav.append(Accuracy)\n",
    "classifier, Accuracy, report, x_test, y_test, cm = Decision(x_train, y_train, x_test)\n",
    "accdes.append(Accuracy)\n",
    "classifier, Accuracy, report, x_test, y_test, cm = random(x_train, y_train, x_test)\n",
    "accrf.append(Accuracy)\n",
    "result=selectk_classification (acclog,accsvml,accsvmnl,accknn,accnav,accdes,accrf)\n",
    "result"
   ]
  },
  {
   "cell_type": "code",
   "execution_count": null,
   "id": "2a7a0e3c",
   "metadata": {},
   "outputs": [],
   "source": []
  }
 ],
 "metadata": {
  "kernelspec": {
   "display_name": "Python 3 (ipykernel)",
   "language": "python",
   "name": "python3"
  },
  "language_info": {
   "codemirror_mode": {
    "name": "ipython",
    "version": 3
   },
   "file_extension": ".py",
   "mimetype": "text/x-python",
   "name": "python",
   "nbconvert_exporter": "python",
   "pygments_lexer": "ipython3",
   "version": "3.7.6"
  }
 },
 "nbformat": 4,
 "nbformat_minor": 5
}
