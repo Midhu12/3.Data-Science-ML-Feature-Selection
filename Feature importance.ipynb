{
 "cells": [
  {
   "cell_type": "code",
   "execution_count": 1,
   "id": "17b08941",
   "metadata": {},
   "outputs": [],
   "source": [
    "import pandas as pd\n",
    "import numpy as np\n",
    "import matplotlib.pyplot as plt\n",
    "import pickle\n",
    "import time"
   ]
  },
  {
   "cell_type": "code",
   "execution_count": 2,
   "id": "0e52f056",
   "metadata": {},
   "outputs": [],
   "source": [
    "from sklearn.model_selection import train_test_split\n",
    "from sklearn.preprocessing import StandardScaler\n",
    "from sklearn.feature_selection import SelectKBest\n",
    "from sklearn.feature_selection import chi2\n",
    "from sklearn.feature_selection import RFE\n",
    "from sklearn.linear_model import LogisticRegression\n",
    "from sklearn.feature_selection import RFE\n",
    "from sklearn.svm import SVC\n",
    "from sklearn.naive_bayes import GaussianNB\n",
    "from sklearn.neighbors import KNeighborsClassifier\n",
    "from sklearn.tree import DecisionTreeClassifier\n",
    "from sklearn.ensemble import RandomForestClassifier"
   ]
  },
  {
   "cell_type": "code",
   "execution_count": 3,
   "id": "5eb217bd",
   "metadata": {},
   "outputs": [],
   "source": [
    "def fe_importance(indep_x, dep_y, n):\n",
    "    felist = []\n",
    "    log_model = LogisticRegression(solver='lbfgs')\n",
    "    RF = RandomForestClassifier(n_estimators=10, criterion='entropy', random_state=0)\n",
    "    DT = DecisionTreeClassifier(criterion='gini', max_features='sqrt', splitter='best', random_state=0)\n",
    "    svc_model = SVC(kernel='linear', random_state=0)\n",
    "    femodellist = [log_model, svc_model, RF, DT]\n",
    "\n",
    "    for model in femodellist:\n",
    "        rfe = RFE(model, n_features_to_select=n)\n",
    "        rfe.fit(indep_x, dep_y)\n",
    "        feature_importances = rfe.ranking_\n",
    "        felist.append((model, feature_importances))\n",
    "    \n",
    "    return felist"
   ]
  },
  {
   "cell_type": "code",
   "execution_count": 4,
   "id": "2a9b94cd",
   "metadata": {},
   "outputs": [],
   "source": [
    "def split_scalar(indep_x, dep_y):\n",
    "    x_train, x_test, y_train, y_test = train_test_split(indep_x, dep_y, test_size=0.25, random_state=0)\n",
    "    sc = StandardScaler()\n",
    "    x_train = sc.fit_transform(x_train)\n",
    "    x_test = sc.transform(x_test)\n",
    "    return x_train, x_test, y_train, y_test\n"
   ]
  },
  {
   "cell_type": "code",
   "execution_count": 5,
   "id": "b36de117",
   "metadata": {},
   "outputs": [],
   "source": [
    "def cm_prediction(classifier,x_test):\n",
    "    y_pred=classifier.predict(x_test)\n",
    "    from sklearn.metrics import confusion_matrix\n",
    "    cm=confusion_matrix(y_test,y_pred)\n",
    "    from sklearn.metrics import accuracy_score\n",
    "    Accuracy=accuracy_score(y_test,y_pred)\n",
    "    from sklearn.metrics import classification_report\n",
    "    report=classification_report(y_test,y_pred)\n",
    "    return classifier,Accuracy,report,x_test,y_test,cm"
   ]
  },
  {
   "cell_type": "code",
   "execution_count": 6,
   "id": "6c0367e6",
   "metadata": {},
   "outputs": [],
   "source": [
    "def logistic(x_train,y_train,x_test):\n",
    "    from sklearn.linear_model import LogisticRegression\n",
    "    classifier=LogisticRegression(random_state=0)\n",
    "    classifier.fit(x_train,y_train)\n",
    "    classifier,Accuracy,report,x_test,y_test,cm=cm_prediction(classifier,x_test)\n",
    "    return classifier,Accuracy,report,x_test,y_test,cm"
   ]
  },
  {
   "cell_type": "code",
   "execution_count": 7,
   "id": "69d31e2e",
   "metadata": {},
   "outputs": [],
   "source": [
    "def svml(x_train,y_train,x_test):\n",
    "    from sklearn.svm import SVC\n",
    "    classifier=SVC(kernel='linear',random_state=0)\n",
    "    classifier.fit(x_train,y_train)\n",
    "    classifier,Accuracy,report,x_test,y_test,cm=cm_prediction(classifier,x_test)\n",
    "    return classifier,Accuracy,report,x_test,y_test,cm"
   ]
  },
  {
   "cell_type": "code",
   "execution_count": 8,
   "id": "a2f95d25",
   "metadata": {},
   "outputs": [],
   "source": [
    "def svmnl(x_train,y_train,x_test):\n",
    "    from sklearn.svm import SVC\n",
    "    classifier=SVC(kernel='rbf',random_state=0)\n",
    "    classifier.fit(x_train,y_train)\n",
    "    classifier,Accuracy,report,x_test,y_test,cm=cm_prediction(classifier,x_test)\n",
    "    return classifier,Accuracy,report,x_test,y_test,cm"
   ]
  },
  {
   "cell_type": "code",
   "execution_count": 9,
   "id": "5bf3078b",
   "metadata": {},
   "outputs": [],
   "source": [
    "def naive(x_train, y_train, x_test):\n",
    "    from sklearn.naive_bayes import GaussianNB\n",
    "    classifier = GaussianNB() \n",
    "    classifier.fit(x_train, y_train)\n",
    "    classifier,Accuracy,report,x_test,y_test,cm=cm_prediction(classifier,x_test)\n",
    "    return classifier,Accuracy,report,x_test,y_test,cm"
   ]
  },
  {
   "cell_type": "code",
   "execution_count": 10,
   "id": "6d0c7e77",
   "metadata": {},
   "outputs": [],
   "source": [
    "def knn(x_train,y_train,x_test):\n",
    "    from sklearn.neighbors import KNeighborsClassifier\n",
    "    classifier=KNeighborsClassifier(n_neighbors=5,metric='minkowski',p=2)\n",
    "    classifier.fit(x_train,y_train)\n",
    "    classifier,Accuracy,report,x_test,y_test,cm=cm_prediction(classifier,x_test)\n",
    "    return classifier,Accuracy,report,x_test,y_test,cm"
   ]
  },
  {
   "cell_type": "code",
   "execution_count": 11,
   "id": "b634ff97",
   "metadata": {},
   "outputs": [],
   "source": [
    "def Decision (x_train,y_train,x_test):\n",
    "    from sklearn.tree import DecisionTreeClassifier\n",
    "    classifier=DecisionTreeClassifier(criterion='entropy',random_state=0)\n",
    "    classifier.fit(x_train,y_train)\n",
    "    classifier,Accuracy,report,x_test,y_test,cm=cm_prediction(classifier,x_test)\n",
    "    return classifier,Accuracy,report,x_test,y_test,cm"
   ]
  },
  {
   "cell_type": "code",
   "execution_count": 12,
   "id": "9edb58d0",
   "metadata": {},
   "outputs": [],
   "source": [
    "def random(x_train,y_train,x_test):\n",
    "    from sklearn.ensemble import RandomForestClassifier\n",
    "    classifier=RandomForestClassifier(n_estimators=10,criterion='entropy',random_state=0)\n",
    "    classifier.fit(x_train,y_train)\n",
    "    classifier,Accuracy,report,x_test,y_test,cm=cm_prediction(classifier,x_test)\n",
    "    return classifier,Accuracy,report,x_test,y_test,cm\n",
    "    "
   ]
  },
  {
   "cell_type": "code",
   "execution_count": 47,
   "id": "83256895",
   "metadata": {},
   "outputs": [],
   "source": [
    "def feature_importance (acclog,accsvml,accsvmnl,accnav,accknn,accdes,accrf):\n",
    "    dataframe=pd.DataFrame(index=['logistic','svml','svmnl',' naive',' knn','Decision','random'],columns=['logistic','svml','svmnl','naive','knn','Decision','random'])\n",
    "    min_length = min(len(acclog), len(accsvml), len(accsvmnl), len(accnav), len(accknn), len(accdes), len(accrf))\n",
    "\n",
    "    for number,idex in enumerate (dataframe.index):\n",
    "        dataframe['logistic'][idex]=acclog[:min_length]\n",
    "        dataframe['svml'][idex]=accsvml[:min_length]\n",
    "        dataframe['svmnl'][idex]=accsvmnl[:min_length]\n",
    "        dataframe['naive'][idex]=accnav[:min_length]\n",
    "        dataframe['knn'][idex]=accknn[:min_length]\n",
    "        dataframe['Decision'][idex]=accdes[:min_length]\n",
    "        dataframe['random'][idex]=accrf[:min_length]\n",
    "    return dataframe"
   ]
  },
  {
   "cell_type": "code",
   "execution_count": 48,
   "id": "191eb08d",
   "metadata": {},
   "outputs": [],
   "source": [
    "dataset1=pd.read_csv('CKD.csv',index_col=None)\n",
    "df2=dataset1\n",
    "df2=pd.get_dummies(df2,drop_first=True)\n",
    "indep_x=df2.drop('classification_yes',1)\n",
    "dep_y=df2['classification_yes']"
   ]
  },
  {
   "cell_type": "code",
   "execution_count": 49,
   "id": "285e7b97",
   "metadata": {
    "scrolled": true
   },
   "outputs": [],
   "source": [
    "acclog=[]\n",
    "accsvml=[]\n",
    "accsvmnl=[]\n",
    "accknn=[]\n",
    "accnav=[]\n",
    "accdes=[]\n",
    "accrf=[]"
   ]
  },
  {
   "cell_type": "code",
   "execution_count": 50,
   "id": "5ed1aeb2",
   "metadata": {},
   "outputs": [],
   "source": [
    "    x_train, x_test, y_train, y_test = split_scalar(indep_x, dep_y)\n",
    "    classifier, Accuracy, report, x_test, y_test, cm = logistic(x_train, y_train, x_test)\n",
    "    acclog.append(Accuracy)\n",
    "    classifier, Accuracy, report, x_test, y_test, cm = svml(x_train, y_train, x_test)\n",
    "    accsvml.append(Accuracy)\n",
    "    classifier, Accuracy, report, x_test, y_test, cm=svmnl(x_train,y_train,x_test)\n",
    "    accsvmnl.append(Accuracy)\n",
    "    classifier, Accuracy, report, x_test, y_test, cm = naive(x_train, y_train, x_test)\n",
    "    accnav.append(Accuracy)\n",
    "    classifier, Accuracy, report, x_test, y_test, cm = knn(x_train, y_train, x_test)\n",
    "    accknn.append(Accuracy)\n",
    "    classifier, Accuracy, report, x_test, y_test, cm = Decision(x_train, y_train, x_test)\n",
    "    accdes.append(Accuracy)\n",
    "    classifier, Accuracy, report, x_test, y_test, cm = random(x_train, y_train, x_test)\n",
    "    accrf.append(Accuracy)\n",
    "    result=feature_importance(acclog,accsvml,accsvmnl,accnav,accknn,accdes,accrf)"
   ]
  },
  {
   "cell_type": "code",
   "execution_count": 51,
   "id": "2a7a0e3c",
   "metadata": {},
   "outputs": [
    {
     "data": {
      "text/html": [
       "<div>\n",
       "<style scoped>\n",
       "    .dataframe tbody tr th:only-of-type {\n",
       "        vertical-align: middle;\n",
       "    }\n",
       "\n",
       "    .dataframe tbody tr th {\n",
       "        vertical-align: top;\n",
       "    }\n",
       "\n",
       "    .dataframe thead th {\n",
       "        text-align: right;\n",
       "    }\n",
       "</style>\n",
       "<table border=\"1\" class=\"dataframe\">\n",
       "  <thead>\n",
       "    <tr style=\"text-align: right;\">\n",
       "      <th></th>\n",
       "      <th>logistic</th>\n",
       "      <th>svml</th>\n",
       "      <th>svmnl</th>\n",
       "      <th>naive</th>\n",
       "      <th>knn</th>\n",
       "      <th>Decision</th>\n",
       "      <th>random</th>\n",
       "    </tr>\n",
       "  </thead>\n",
       "  <tbody>\n",
       "    <tr>\n",
       "      <th>logistic</th>\n",
       "      <td>[0.99]</td>\n",
       "      <td>[0.98]</td>\n",
       "      <td>[0.99]</td>\n",
       "      <td>[0.98]</td>\n",
       "      <td>[0.97]</td>\n",
       "      <td>[0.9]</td>\n",
       "      <td>[0.99]</td>\n",
       "    </tr>\n",
       "    <tr>\n",
       "      <th>svml</th>\n",
       "      <td>[0.99]</td>\n",
       "      <td>[0.98]</td>\n",
       "      <td>[0.99]</td>\n",
       "      <td>[0.98]</td>\n",
       "      <td>[0.97]</td>\n",
       "      <td>[0.9]</td>\n",
       "      <td>[0.99]</td>\n",
       "    </tr>\n",
       "    <tr>\n",
       "      <th>svmnl</th>\n",
       "      <td>[0.99]</td>\n",
       "      <td>[0.98]</td>\n",
       "      <td>[0.99]</td>\n",
       "      <td>[0.98]</td>\n",
       "      <td>[0.97]</td>\n",
       "      <td>[0.9]</td>\n",
       "      <td>[0.99]</td>\n",
       "    </tr>\n",
       "    <tr>\n",
       "      <th>naive</th>\n",
       "      <td>[0.99]</td>\n",
       "      <td>[0.98]</td>\n",
       "      <td>[0.99]</td>\n",
       "      <td>[0.98]</td>\n",
       "      <td>[0.97]</td>\n",
       "      <td>[0.9]</td>\n",
       "      <td>[0.99]</td>\n",
       "    </tr>\n",
       "    <tr>\n",
       "      <th>knn</th>\n",
       "      <td>[0.99]</td>\n",
       "      <td>[0.98]</td>\n",
       "      <td>[0.99]</td>\n",
       "      <td>[0.98]</td>\n",
       "      <td>[0.97]</td>\n",
       "      <td>[0.9]</td>\n",
       "      <td>[0.99]</td>\n",
       "    </tr>\n",
       "    <tr>\n",
       "      <th>Decision</th>\n",
       "      <td>[0.99]</td>\n",
       "      <td>[0.98]</td>\n",
       "      <td>[0.99]</td>\n",
       "      <td>[0.98]</td>\n",
       "      <td>[0.97]</td>\n",
       "      <td>[0.9]</td>\n",
       "      <td>[0.99]</td>\n",
       "    </tr>\n",
       "    <tr>\n",
       "      <th>random</th>\n",
       "      <td>[0.99]</td>\n",
       "      <td>[0.98]</td>\n",
       "      <td>[0.99]</td>\n",
       "      <td>[0.98]</td>\n",
       "      <td>[0.97]</td>\n",
       "      <td>[0.9]</td>\n",
       "      <td>[0.99]</td>\n",
       "    </tr>\n",
       "  </tbody>\n",
       "</table>\n",
       "</div>"
      ],
      "text/plain": [
       "         logistic    svml   svmnl   naive     knn Decision  random\n",
       "logistic   [0.99]  [0.98]  [0.99]  [0.98]  [0.97]    [0.9]  [0.99]\n",
       "svml       [0.99]  [0.98]  [0.99]  [0.98]  [0.97]    [0.9]  [0.99]\n",
       "svmnl      [0.99]  [0.98]  [0.99]  [0.98]  [0.97]    [0.9]  [0.99]\n",
       " naive     [0.99]  [0.98]  [0.99]  [0.98]  [0.97]    [0.9]  [0.99]\n",
       " knn       [0.99]  [0.98]  [0.99]  [0.98]  [0.97]    [0.9]  [0.99]\n",
       "Decision   [0.99]  [0.98]  [0.99]  [0.98]  [0.97]    [0.9]  [0.99]\n",
       "random     [0.99]  [0.98]  [0.99]  [0.98]  [0.97]    [0.9]  [0.99]"
      ]
     },
     "execution_count": 51,
     "metadata": {},
     "output_type": "execute_result"
    }
   ],
   "source": [
    "result"
   ]
  },
  {
   "cell_type": "code",
   "execution_count": null,
   "id": "eeffec72",
   "metadata": {},
   "outputs": [],
   "source": []
  }
 ],
 "metadata": {
  "kernelspec": {
   "display_name": "Python 3 (ipykernel)",
   "language": "python",
   "name": "python3"
  },
  "language_info": {
   "codemirror_mode": {
    "name": "ipython",
    "version": 3
   },
   "file_extension": ".py",
   "mimetype": "text/x-python",
   "name": "python",
   "nbconvert_exporter": "python",
   "pygments_lexer": "ipython3",
   "version": "3.7.6"
  }
 },
 "nbformat": 4,
 "nbformat_minor": 5
}
